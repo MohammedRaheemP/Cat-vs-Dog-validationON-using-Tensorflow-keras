{
 "cells": [
  {
   "cell_type": "raw",
   "metadata": {},
   "source": [
    "Importing packages"
   ]
  },
  {
   "cell_type": "code",
   "execution_count": 1,
   "metadata": {},
   "outputs": [
    {
     "name": "stderr",
     "output_type": "stream",
     "text": [
      "Using TensorFlow backend.\n"
     ]
    }
   ],
   "source": [
    "import tensorflow as tf\n",
    "import keras\n",
    "from keras.models import Sequential\n",
    "from keras.layers import Conv2D,MaxPooling2D,Flatten,Dense\n",
    "from keras.preprocessing.image import ImageDataGenerator\n",
    "from keras import callbacks\n",
    "from keras.optimizers import RMSprop"
   ]
  },
  {
   "cell_type": "code",
   "execution_count": 2,
   "metadata": {},
   "outputs": [],
   "source": [
    "#ImageDataGenerator flollowed by normalization\n",
    "train_datagen=ImageDataGenerator(rescale=1/255.0)\n",
    "test_datagen=ImageDataGenerator(rescale=1/255.0)"
   ]
  },
  {
   "cell_type": "code",
   "execution_count": 3,
   "metadata": {},
   "outputs": [
    {
     "name": "stdout",
     "output_type": "stream",
     "text": [
      "Found 8005 images belonging to 2 classes.\n",
      "Found 2023 images belonging to 2 classes.\n"
     ]
    }
   ],
   "source": [
    "train_data=train_datagen.flow_from_directory('training_set',target_size=(150,150),batch_size=32,class_mode='binary')\n",
    "test_data=test_datagen.flow_from_directory('test_set',target_size=(150,150),batch_size=16,class_mode='binary')"
   ]
  },
  {
   "cell_type": "raw",
   "metadata": {},
   "source": [
    "callback is to stop training when accuracy reach 99% once."
   ]
  },
  {
   "cell_type": "code",
   "execution_count": 4,
   "metadata": {},
   "outputs": [],
   "source": [
    "class myCallbacks(tf.keras.callbacks.Callback):\n",
    "    def on_epoch_end(self,epoch,logs={}):\n",
    "        if logs.get('acc')>0.99:\n",
    "            print('stops training')\n",
    "            self.model.stop_training=True"
   ]
  },
  {
   "cell_type": "code",
   "execution_count": 5,
   "metadata": {},
   "outputs": [],
   "source": [
    "callbacks=myCallbacks()"
   ]
  },
  {
   "cell_type": "code",
   "execution_count": 6,
   "metadata": {},
   "outputs": [],
   "source": [
    "#model"
   ]
  },
  {
   "cell_type": "code",
   "execution_count": 7,
   "metadata": {},
   "outputs": [],
   "source": [
    "\n",
    "model=Sequential([Conv2D(32,(3,3),activation='relu',input_shape=(150,150,3)),MaxPooling2D(2,2),\n",
    "                 Conv2D(64,(3,3),activation='relu'),MaxPooling2D(2,2),\n",
    "                 Conv2D(64,(3,3),activation='relu'),MaxPooling2D(2,2),\n",
    "                 Flatten(),Dense(256,activation='relu'),Dense(1,activation='sigmoid')\n",
    "                 ])"
   ]
  },
  {
   "cell_type": "code",
   "execution_count": 8,
   "metadata": {},
   "outputs": [],
   "source": [
    "model.compile(optimizer=RMSprop(learning_rate=0.001),loss='binary_crossentropy',metrics=['acc'])"
   ]
  },
  {
   "cell_type": "code",
   "execution_count": 9,
   "metadata": {},
   "outputs": [
    {
     "name": "stdout",
     "output_type": "stream",
     "text": [
      "Epoch 1/15\n",
      " - 147s - loss: 0.8258 - acc: 0.5421 - val_loss: 0.7218 - val_acc: 0.5987\n",
      "Epoch 2/15\n",
      " - 152s - loss: 0.6494 - acc: 0.6340 - val_loss: 0.6938 - val_acc: 0.6350\n",
      "Epoch 3/15\n",
      " - 141s - loss: 0.5907 - acc: 0.6867 - val_loss: 0.4903 - val_acc: 0.7130\n",
      "Epoch 4/15\n",
      " - 142s - loss: 0.5464 - acc: 0.7202 - val_loss: 0.8102 - val_acc: 0.6662\n",
      "Epoch 5/15\n",
      " - 138s - loss: 0.4965 - acc: 0.7626 - val_loss: 0.5730 - val_acc: 0.7487\n",
      "Epoch 6/15\n",
      " - 138s - loss: 0.4783 - acc: 0.7747 - val_loss: 0.5405 - val_acc: 0.7547\n",
      "Epoch 7/15\n",
      " - 141s - loss: 0.4324 - acc: 0.8091 - val_loss: 0.7179 - val_acc: 0.7812\n",
      "Epoch 8/15\n",
      " - 151s - loss: 0.4082 - acc: 0.8189 - val_loss: 0.6152 - val_acc: 0.7724\n",
      "Epoch 9/15\n",
      " - 153s - loss: 0.3606 - acc: 0.8403 - val_loss: 0.6492 - val_acc: 0.7287\n",
      "Epoch 10/15\n",
      " - 163s - loss: 0.3335 - acc: 0.8496 - val_loss: 0.7624 - val_acc: 0.7775\n",
      "Epoch 11/15\n",
      " - 153s - loss: 0.2919 - acc: 0.8762 - val_loss: 0.4446 - val_acc: 0.7838\n",
      "Epoch 12/15\n",
      " - 141s - loss: 0.2643 - acc: 0.8870 - val_loss: 0.8545 - val_acc: 0.8075\n",
      "Epoch 13/15\n",
      " - 142s - loss: 0.2006 - acc: 0.9182 - val_loss: 1.2758 - val_acc: 0.7573\n",
      "Epoch 14/15\n",
      " - 144s - loss: 0.1949 - acc: 0.9226 - val_loss: 0.1445 - val_acc: 0.7700\n",
      "Epoch 15/15\n",
      " - 151s - loss: 0.1530 - acc: 0.9378 - val_loss: 0.3964 - val_acc: 0.7987\n"
     ]
    },
    {
     "data": {
      "text/plain": [
       "<keras.callbacks.callbacks.History at 0x7f77331bda90>"
      ]
     },
     "execution_count": 9,
     "metadata": {},
     "output_type": "execute_result"
    }
   ],
   "source": [
    "model.fit_generator(train_data,steps_per_epoch=128,epochs=15,validation_data=test_data,validation_steps=50,verbose=2,callbacks=[callbacks])"
   ]
  },
  {
   "cell_type": "code",
   "execution_count": 10,
   "metadata": {},
   "outputs": [
    {
     "name": "stdout",
     "output_type": "stream",
     "text": [
      "Epoch 1/15\n",
      " - 193s - loss: 0.1310 - acc: 0.9538 - val_loss: 0.8695 - val_acc: 0.7663\n",
      "Epoch 2/15\n",
      " - 163s - loss: 0.1185 - acc: 0.9551 - val_loss: 0.5779 - val_acc: 0.8012\n",
      "Epoch 3/15\n",
      " - 144s - loss: 0.0760 - acc: 0.9731 - val_loss: 0.9038 - val_acc: 0.7838\n",
      "Epoch 4/15\n",
      " - 168s - loss: 0.0781 - acc: 0.9725 - val_loss: 1.6566 - val_acc: 0.7887\n",
      "Epoch 5/15\n",
      " - 175s - loss: 0.0729 - acc: 0.9753 - val_loss: 1.2151 - val_acc: 0.7688\n",
      "Epoch 6/15\n",
      " - 157s - loss: 0.0520 - acc: 0.9803 - val_loss: 1.3136 - val_acc: 0.7876\n",
      "Epoch 7/15\n",
      " - 159s - loss: 0.0560 - acc: 0.9826 - val_loss: 0.8563 - val_acc: 0.7862\n",
      "Epoch 8/15\n",
      " - 202s - loss: 0.0552 - acc: 0.9822 - val_loss: 0.1873 - val_acc: 0.8091\n",
      "Epoch 9/15\n",
      " - 162s - loss: 0.0783 - acc: 0.9833 - val_loss: 1.1241 - val_acc: 0.7725\n",
      "Epoch 10/15\n",
      " - 162s - loss: 0.0495 - acc: 0.9844 - val_loss: 3.0527 - val_acc: 0.7850\n",
      "Epoch 11/15\n",
      " - 162s - loss: 0.0541 - acc: 0.9839 - val_loss: 2.3963 - val_acc: 0.7547\n",
      "Epoch 12/15\n",
      " - 179s - loss: 0.0440 - acc: 0.9882 - val_loss: 2.0098 - val_acc: 0.7750\n",
      "Epoch 13/15\n",
      " - 161s - loss: 0.0436 - acc: 0.9882 - val_loss: 0.0074 - val_acc: 0.7750\n",
      "Epoch 14/15\n",
      " - 168s - loss: 0.0426 - acc: 0.9890 - val_loss: 0.3082 - val_acc: 0.7837\n",
      "Epoch 15/15\n",
      " - 160s - loss: 0.0534 - acc: 0.9878 - val_loss: 5.0401 - val_acc: 0.7750\n"
     ]
    }
   ],
   "source": [
    "history=model.fit_generator(train_data,steps_per_epoch=128,epochs=15,validation_data=test_data,validation_steps=50,verbose=2,callbacks=[callbacks])"
   ]
  },
  {
   "cell_type": "raw",
   "metadata": {},
   "source": [
    "Loss and Accuracy plots"
   ]
  },
  {
   "cell_type": "code",
   "execution_count": 11,
   "metadata": {},
   "outputs": [],
   "source": [
    "import matplotlib.pyplot as plt"
   ]
  },
  {
   "cell_type": "code",
   "execution_count": 12,
   "metadata": {},
   "outputs": [],
   "source": [
    "# x-axis\n",
    "epochs=range(len('acc'))"
   ]
  },
  {
   "cell_type": "code",
   "execution_count": 17,
   "metadata": {},
   "outputs": [
    {
     "data": {
      "image/png": "[encoded data removed]",
      "text/plain": [
       "<Figure size 432x288 with 1 Axes>"
      ]
     },
     "metadata": {
      "needs_background": "light"
     },
     "output_type": "display_data"
    }
   ],
   "source": [
    "#Accuracy\n",
    "plt.figure()\n",
    "train_accuracy=history.history['acc']\n",
    "test_accuracy=history.history['val_acc']\n",
    "plt.plot(epochs,train_accuracy,'r',label='Training_accuracy')\n",
    "plt.plot(epochs,test_accuracy,'b',label='Testing_accuracy')\n",
    "plt.title('Training and validation Accuracies')\n",
    "plt.show()"
   ]
  },
  {
   "cell_type": "code",
   "execution_count": 18,
   "metadata": {},
   "outputs": [
    {
     "data": {
      "image/png": "[encoded data removed]",
      "text/plain": [
       "<Figure size 432x288 with 1 Axes>"
      ]
     },
     "metadata": {
      "needs_background": "light"
     },
     "output_type": "display_data"
    }
   ],
   "source": [
    "#Loss\n",
    "plt.figure()\n",
    "train_loss=history.history['loss']\n",
    "test_loss=history.history['val_loss']\n",
    "plt.plot(epochs,train_loss,'r',label='Training_Loss')\n",
    "plt.plot(epochs,test_loss,'b',label='Testing_Loss')\n",
    "plt.title('Training and validation Losses')\n",
    "plt.show()"
   ]
  },
  {
   "cell_type": "code",
   "execution_count": null,
   "metadata": {},
   "outputs": [],
   "source": []
  }
 ],
 "metadata": {
  "kernelspec": {
   "display_name": "Python 3",
   "language": "python",
   "name": "python3"
  },
  "language_info": {
   "codemirror_mode": {
    "name": "ipython",
    "version": 3
   },
   "file_extension": ".py",
   "mimetype": "text/x-python",
   "name": "python",
   "nbconvert_exporter": "python",
   "pygments_lexer": "ipython3",
   "version": "3.7.4"
  }
 },
 "nbformat": 4,
 "nbformat_minor": 2
}
